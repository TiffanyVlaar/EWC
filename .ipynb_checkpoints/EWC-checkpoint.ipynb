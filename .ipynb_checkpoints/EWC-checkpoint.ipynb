{
 "cells": [
  {
   "cell_type": "code",
   "execution_count": 1,
   "metadata": {},
   "outputs": [],
   "source": [
    "import numpy as np\n",
    "import matplotlib.cm as cm\n",
    "import numpy.random as npr\n",
    "import matplotlib.pyplot as plt\n",
    "import torch\n",
    "import torch.nn as nn\n",
    "from torch.autograd import Variable\n",
    "import torchvision.datasets as datasets\n",
    "import torchvision.transforms as transforms\n",
    "from torch.utils.data import DataLoader, Dataset\n",
    "import torch.nn.functional as F"
   ]
  },
  {
   "cell_type": "code",
   "execution_count": 2,
   "metadata": {},
   "outputs": [
    {
     "data": {
      "text/plain": [
       "<torch._C.Generator at 0x10ff78730>"
      ]
     },
     "execution_count": 2,
     "metadata": {},
     "output_type": "execute_result"
    }
   ],
   "source": [
    "torch.manual_seed(2)"
   ]
  },
  {
   "cell_type": "code",
   "execution_count": 3,
   "metadata": {},
   "outputs": [
    {
     "name": "stdout",
     "output_type": "stream",
     "text": [
      "Downloading http://yann.lecun.com/exdb/mnist/train-images-idx3-ubyte.gz to ./data/MNIST/raw/train-images-idx3-ubyte.gz\n"
     ]
    },
    {
     "name": "stderr",
     "output_type": "stream",
     "text": [
      "100.1%"
     ]
    },
    {
     "name": "stdout",
     "output_type": "stream",
     "text": [
      "Extracting ./data/MNIST/raw/train-images-idx3-ubyte.gz\n",
      "Downloading http://yann.lecun.com/exdb/mnist/train-labels-idx1-ubyte.gz to ./data/MNIST/raw/train-labels-idx1-ubyte.gz\n"
     ]
    },
    {
     "name": "stderr",
     "output_type": "stream",
     "text": [
      "113.5%"
     ]
    },
    {
     "name": "stdout",
     "output_type": "stream",
     "text": [
      "Extracting ./data/MNIST/raw/train-labels-idx1-ubyte.gz\n",
      "Downloading http://yann.lecun.com/exdb/mnist/t10k-images-idx3-ubyte.gz to ./data/MNIST/raw/t10k-images-idx3-ubyte.gz\n"
     ]
    },
    {
     "name": "stderr",
     "output_type": "stream",
     "text": [
      "100.4%"
     ]
    },
    {
     "name": "stdout",
     "output_type": "stream",
     "text": [
      "Extracting ./data/MNIST/raw/t10k-images-idx3-ubyte.gz\n",
      "Downloading http://yann.lecun.com/exdb/mnist/t10k-labels-idx1-ubyte.gz to ./data/MNIST/raw/t10k-labels-idx1-ubyte.gz\n"
     ]
    },
    {
     "name": "stderr",
     "output_type": "stream",
     "text": [
      "180.4%"
     ]
    },
    {
     "name": "stdout",
     "output_type": "stream",
     "text": [
      "Extracting ./data/MNIST/raw/t10k-labels-idx1-ubyte.gz\n",
      "Processing...\n",
      "Done!\n"
     ]
    }
   ],
   "source": [
    "mnist_trainold = datasets.MNIST(\"./data\", train=True, download=True, transform=transforms.ToTensor())\n",
    "loader_train = DataLoader(mnist_trainold, batch_size=len(mnist_trainold), shuffle=True)\n",
    "\n",
    "mnist_testold = datasets.MNIST(\"./data\", train=False, download=True, transform=transforms.ToTensor())\n",
    "loader_test = DataLoader(mnist_testold, batch_size=len(mnist_testold), shuffle=True)"
   ]
  },
  {
   "cell_type": "code",
   "execution_count": 4,
   "metadata": {},
   "outputs": [],
   "source": [
    "for i,data in enumerate(loader_train):\n",
    "    xtrainold=data[0].view(-1,784)\n",
    "    ytrainold=data[1] \n",
    "\n",
    "for i,data in enumerate(loader_test):\n",
    "    xtestold=data[0].view(-1,784)\n",
    "    ytestold=data[1] "
   ]
  },
  {
   "cell_type": "code",
   "execution_count": 5,
   "metadata": {},
   "outputs": [],
   "source": [
    "idx1 = np.arange(784)\n",
    "np.random.shuffle(idx1)\n",
    "\n",
    "idx2 = np.arange(784)\n",
    "np.random.shuffle(idx2)"
   ]
  },
  {
   "cell_type": "code",
   "execution_count": 6,
   "metadata": {},
   "outputs": [],
   "source": [
    "class PermutedMNIST(Dataset):\n",
    "    \n",
    "    def __init__(self,x,y,idx):\n",
    "        super().__init__()\n",
    "        self.y = y\n",
    "        self.x = x[:,idx]\n",
    "\n",
    "    def __len__(self):\n",
    "        return len(self.y)\n",
    "    \n",
    "    def __getitem__(self, i):\n",
    "        return self.x[i], self.y[i]"
   ]
  },
  {
   "cell_type": "code",
   "execution_count": 7,
   "metadata": {},
   "outputs": [],
   "source": [
    "batchsize = 256\n",
    "\n",
    "mnist_train1 = PermutedMNIST(xtrainold, ytrainold,idx1)\n",
    "dataloader_train1 = DataLoader(mnist_train1, batch_size=batchsize, shuffle=True)\n",
    "\n",
    "mnist_test1 = PermutedMNIST(xtestold, ytestold,idx1)\n",
    "dataloader_test1 = DataLoader(mnist_test1, batch_size=len(mnist_test1), shuffle=True)\n",
    "\n",
    "mnist_train2 = PermutedMNIST(xtrainold, ytrainold,idx2)\n",
    "dataloader_train2 = DataLoader(mnist_train2, batch_size=batchsize, shuffle=True)\n",
    "\n",
    "mnist_test2 = PermutedMNIST(xtestold, ytestold,idx2)\n",
    "dataloader_test2 = DataLoader(mnist_test2, batch_size=len(mnist_test2), shuffle=True)"
   ]
  },
  {
   "cell_type": "code",
   "execution_count": 8,
   "metadata": {},
   "outputs": [],
   "source": [
    "for data_test in enumerate(dataloader_test1):\n",
    "    x_test1 = data_test[1][0].view(-1,784)\n",
    "    y_test1 = data_test[1][1]\n",
    "\n",
    "for data_test in enumerate(dataloader_test2):\n",
    "    x_test2 = data_test[1][0].view(-1,784)\n",
    "    y_test2 = data_test[1][1]"
   ]
  },
  {
   "cell_type": "code",
   "execution_count": 9,
   "metadata": {},
   "outputs": [],
   "source": [
    "class Net(nn.Module):\n",
    "    def __init__(self):\n",
    "        super(Net, self).__init__()\n",
    "        \n",
    "        self.big_pass = nn.Sequential(nn.Linear(784,500),\n",
    "                                      nn.ReLU(), \n",
    "                                      nn.Linear(500,200),\n",
    "                                      nn.ReLU(), \n",
    "                                      nn.Linear(200,10)\n",
    "                                     )\n",
    "\n",
    "    def forward(self, x):\n",
    "        out = self.big_pass(x)\n",
    "        return out "
   ]
  },
  {
   "cell_type": "code",
   "execution_count": 10,
   "metadata": {},
   "outputs": [],
   "source": [
    "def accuracy_Nclass(out,y):\n",
    "    diff = np.count_nonzero(np.argmax(out,axis=1)-y)\n",
    "    return (1-(diff/np.size(y)))*100"
   ]
  },
  {
   "cell_type": "markdown",
   "metadata": {},
   "source": [
    "# Standard SGD"
   ]
  },
  {
   "cell_type": "code",
   "execution_count": 12,
   "metadata": {},
   "outputs": [
    {
     "name": "stdout",
     "output_type": "stream",
     "text": [
      "epoch 0/50, step 234/235, accuracy test 60.39 %, lost test, 2.1568241119384766\n",
      "epoch 1/50, step 234/235, accuracy test 69.8 %, lost test, 1.668811321258545\n",
      "epoch 2/50, step 234/235, accuracy test 78.3 %, lost test, 0.9903965592384338\n",
      "epoch 3/50, step 234/235, accuracy test 82.78 %, lost test, 0.6962903141975403\n",
      "epoch 4/50, step 234/235, accuracy test 85.58 %, lost test, 0.5603922605514526\n",
      "epoch 5/50, step 234/235, accuracy test 87.36 %, lost test, 0.4831545054912567\n",
      "epoch 6/50, step 234/235, accuracy test 88.4 %, lost test, 0.43577831983566284\n",
      "epoch 7/50, step 234/235, accuracy test 88.94 %, lost test, 0.403994619846344\n",
      "epoch 8/50, step 234/235, accuracy test 89.42999999999999 %, lost test, 0.38010919094085693\n",
      "epoch 9/50, step 234/235, accuracy test 89.75 %, lost test, 0.36279937624931335\n",
      "epoch 10/50, step 234/235, accuracy test 90.24 %, lost test, 0.3474627435207367\n",
      "epoch 11/50, step 234/235, accuracy test 90.39 %, lost test, 0.3353479504585266\n",
      "epoch 12/50, step 234/235, accuracy test 90.69 %, lost test, 0.3269566595554352\n",
      "epoch 13/50, step 234/235, accuracy test 90.97 %, lost test, 0.3173908591270447\n",
      "epoch 14/50, step 234/235, accuracy test 91.2 %, lost test, 0.3092614412307739\n",
      "epoch 15/50, step 234/235, accuracy test 91.25 %, lost test, 0.3022797703742981\n",
      "epoch 16/50, step 234/235, accuracy test 91.59 %, lost test, 0.29603639245033264\n",
      "epoch 17/50, step 234/235, accuracy test 91.73 %, lost test, 0.2911655902862549\n",
      "epoch 18/50, step 234/235, accuracy test 91.81 %, lost test, 0.28601378202438354\n",
      "epoch 19/50, step 234/235, accuracy test 92.04 %, lost test, 0.2801859676837921\n",
      "epoch 20/50, step 234/235, accuracy test 92.31 %, lost test, 0.2751860022544861\n",
      "epoch 21/50, step 234/235, accuracy test 92.30000000000001 %, lost test, 0.2707826793193817\n",
      "epoch 22/50, step 234/235, accuracy test 92.45 %, lost test, 0.26638147234916687\n",
      "epoch 23/50, step 234/235, accuracy test 92.52 %, lost test, 0.26319870352745056\n",
      "epoch 24/50, step 234/235, accuracy test 92.75 %, lost test, 0.2588387727737427\n",
      "epoch 25/50, step 234/235, accuracy test 92.86999999999999 %, lost test, 0.25577184557914734\n",
      "epoch 26/50, step 234/235, accuracy test 92.99 %, lost test, 0.25127464532852173\n",
      "epoch 27/50, step 234/235, accuracy test 93.07 %, lost test, 0.2472558170557022\n",
      "epoch 28/50, step 234/235, accuracy test 93.19 %, lost test, 0.2436242401599884\n",
      "epoch 29/50, step 234/235, accuracy test 93.31 %, lost test, 0.23957929015159607\n",
      "epoch 30/50, step 234/235, accuracy test 93.37 %, lost test, 0.23687338829040527\n",
      "epoch 31/50, step 234/235, accuracy test 93.47 %, lost test, 0.23364758491516113\n",
      "epoch 32/50, step 234/235, accuracy test 93.57 %, lost test, 0.22970527410507202\n",
      "epoch 33/50, step 234/235, accuracy test 93.6 %, lost test, 0.2271394282579422\n",
      "epoch 34/50, step 234/235, accuracy test 93.78 %, lost test, 0.22369128465652466\n",
      "epoch 35/50, step 234/235, accuracy test 93.86 %, lost test, 0.22028100490570068\n",
      "epoch 36/50, step 234/235, accuracy test 93.9 %, lost test, 0.2169346958398819\n",
      "epoch 37/50, step 234/235, accuracy test 93.94 %, lost test, 0.2147066444158554\n",
      "epoch 38/50, step 234/235, accuracy test 94.01 %, lost test, 0.2116764634847641\n",
      "epoch 39/50, step 234/235, accuracy test 94.07 %, lost test, 0.20856398344039917\n",
      "epoch 40/50, step 234/235, accuracy test 94.14 %, lost test, 0.2051752209663391\n",
      "epoch 41/50, step 234/235, accuracy test 94.19999999999999 %, lost test, 0.20268568396568298\n",
      "epoch 42/50, step 234/235, accuracy test 94.26 %, lost test, 0.20049583911895752\n",
      "epoch 43/50, step 234/235, accuracy test 94.35 %, lost test, 0.1971840262413025\n",
      "epoch 44/50, step 234/235, accuracy test 94.36 %, lost test, 0.19450382888317108\n",
      "epoch 45/50, step 234/235, accuracy test 94.41000000000001 %, lost test, 0.1918214112520218\n",
      "epoch 46/50, step 234/235, accuracy test 94.5 %, lost test, 0.18961292505264282\n",
      "epoch 47/50, step 234/235, accuracy test 94.49 %, lost test, 0.18706302344799042\n",
      "epoch 48/50, step 234/235, accuracy test 94.59 %, lost test, 0.1844237744808197\n",
      "epoch 49/50, step 234/235, accuracy test 94.65 %, lost test, 0.1821471005678177\n"
     ]
    }
   ],
   "source": [
    "num_epochs = 50\n",
    "total_steps = len(dataloader_train1)\n",
    "\n",
    "h = 0.01\n",
    "\n",
    "RES1 = []\n",
    "NN = Net()\n",
    "criterion = nn.CrossEntropyLoss()\n",
    "optimizer = torch.optim.SGD(NN.parameters(),lr=h)\n",
    "\n",
    "for epoch in range(num_epochs): \n",
    "    for i,data in enumerate(dataloader_train1):\n",
    "         # Load in the training datapoints\n",
    "        x=data[0].view(-1,784)\n",
    "        y=data[1] \n",
    "\n",
    "        output = NN(x)\n",
    "        loss = criterion(output,y) \n",
    "\n",
    "        optimizer.zero_grad()\n",
    "        loss.backward()\n",
    "        optimizer.step()\n",
    "            # Evaluate how the neural network is doing and store the results\n",
    "\n",
    "        if (epoch+1) % 1 == 0 and (i+1) % int(len(mnist_train1)/batchsize) == 0: \n",
    "            \n",
    "            acc = accuracy_Nclass(output.detach().numpy(),y.detach().numpy())\n",
    "            outputtest = NN(x_test1)\n",
    "            loss_test = criterion(outputtest,y_test1)\n",
    "            acc_test = accuracy_Nclass(outputtest.detach().numpy(),y_test1.detach().numpy())\n",
    "            print(f'epoch {epoch}/{num_epochs}, step {i+1}/{total_steps}, accuracy test {acc_test} %, lost test, {loss_test.item()}')\n",
    "\n",
    "                # Store the results\n",
    "            RES1 += [[epoch ,loss_test.item(),acc_test, loss.item(), acc]] \n"
   ]
  },
  {
   "cell_type": "code",
   "execution_count": 13,
   "metadata": {},
   "outputs": [
    {
     "name": "stdout",
     "output_type": "stream",
     "text": [
      "epoch 0/50, step 234/235, accuracy test1 91.75999999999999 %, lost test1, 0.2638022005558014\n",
      "accuracy test2 87.77000000000001 %, lost test2, 0.47556644678115845\n",
      "epoch 1/50, step 234/235, accuracy test1 91.78999999999999 %, lost test1, 0.2607848346233368\n",
      "accuracy test2 89.88000000000001 %, lost test2, 0.37015435099601746\n",
      "epoch 2/50, step 234/235, accuracy test1 92.47999999999999 %, lost test1, 0.24321642518043518\n",
      "accuracy test2 90.79 %, lost test2, 0.32718831300735474\n",
      "epoch 3/50, step 234/235, accuracy test1 92.75 %, lost test1, 0.23656728863716125\n",
      "accuracy test2 91.51 %, lost test2, 0.30117738246917725\n",
      "epoch 4/50, step 234/235, accuracy test1 92.65 %, lost test1, 0.23649337887763977\n",
      "accuracy test2 91.93 %, lost test2, 0.28269562125205994\n",
      "epoch 5/50, step 234/235, accuracy test1 92.75 %, lost test1, 0.23611286282539368\n",
      "accuracy test2 92.4 %, lost test2, 0.2697165906429291\n",
      "epoch 6/50, step 234/235, accuracy test1 92.58999999999999 %, lost test1, 0.24008066952228546\n",
      "accuracy test2 92.63 %, lost test2, 0.2572551369667053\n",
      "epoch 7/50, step 234/235, accuracy test1 92.63 %, lost test1, 0.2375522404909134\n",
      "accuracy test2 93.06 %, lost test2, 0.24752318859100342\n",
      "epoch 8/50, step 234/235, accuracy test1 92.56 %, lost test1, 0.2409982979297638\n",
      "accuracy test2 93.28999999999999 %, lost test2, 0.23835688829421997\n",
      "epoch 9/50, step 234/235, accuracy test1 92.65 %, lost test1, 0.24200336635112762\n",
      "accuracy test2 93.55 %, lost test2, 0.2321058064699173\n",
      "epoch 10/50, step 234/235, accuracy test1 92.21000000000001 %, lost test1, 0.2546795904636383\n",
      "accuracy test2 93.56 %, lost test2, 0.22451823949813843\n",
      "epoch 11/50, step 234/235, accuracy test1 92.06 %, lost test1, 0.25752902030944824\n",
      "accuracy test2 93.92 %, lost test2, 0.2183871567249298\n",
      "epoch 12/50, step 234/235, accuracy test1 92.33 %, lost test1, 0.2501086890697479\n",
      "accuracy test2 93.94 %, lost test2, 0.21165400743484497\n",
      "epoch 13/50, step 234/235, accuracy test1 92.04 %, lost test1, 0.2610548436641693\n",
      "accuracy test2 94.14 %, lost test2, 0.20638036727905273\n",
      "epoch 14/50, step 234/235, accuracy test1 91.85 %, lost test1, 0.26665788888931274\n",
      "accuracy test2 94.3 %, lost test2, 0.20082662999629974\n",
      "epoch 15/50, step 234/235, accuracy test1 91.73 %, lost test1, 0.2718657851219177\n",
      "accuracy test2 94.45 %, lost test2, 0.1962796449661255\n",
      "epoch 16/50, step 234/235, accuracy test1 91.72 %, lost test1, 0.2749522626399994\n",
      "accuracy test2 94.57 %, lost test2, 0.1921708583831787\n",
      "epoch 17/50, step 234/235, accuracy test1 91.56 %, lost test1, 0.27984166145324707\n",
      "accuracy test2 94.66 %, lost test2, 0.188450425863266\n",
      "epoch 18/50, step 234/235, accuracy test1 91.58 %, lost test1, 0.28058746457099915\n",
      "accuracy test2 94.76 %, lost test2, 0.18428142368793488\n",
      "epoch 19/50, step 234/235, accuracy test1 91.36 %, lost test1, 0.28906410932540894\n",
      "accuracy test2 94.85 %, lost test2, 0.1801062673330307\n",
      "epoch 20/50, step 234/235, accuracy test1 91.03999999999999 %, lost test1, 0.300715833902359\n",
      "accuracy test2 94.93 %, lost test2, 0.17758521437644958\n",
      "epoch 21/50, step 234/235, accuracy test1 91.03 %, lost test1, 0.3008362650871277\n",
      "accuracy test2 94.94 %, lost test2, 0.17382235825061798\n",
      "epoch 22/50, step 234/235, accuracy test1 91.02 %, lost test1, 0.3034883439540863\n",
      "accuracy test2 95.05 %, lost test2, 0.1708158701658249\n",
      "epoch 23/50, step 234/235, accuracy test1 90.79 %, lost test1, 0.30904895067214966\n",
      "accuracy test2 95.12 %, lost test2, 0.16677218675613403\n",
      "epoch 24/50, step 234/235, accuracy test1 90.75 %, lost test1, 0.3134675920009613\n",
      "accuracy test2 95.22 %, lost test2, 0.16444668173789978\n",
      "epoch 25/50, step 234/235, accuracy test1 90.52 %, lost test1, 0.32018521428108215\n",
      "accuracy test2 95.35 %, lost test2, 0.16093666851520538\n",
      "epoch 26/50, step 234/235, accuracy test1 90.52 %, lost test1, 0.3192351162433624\n",
      "accuracy test2 95.35 %, lost test2, 0.15881986916065216\n",
      "epoch 27/50, step 234/235, accuracy test1 90.34 %, lost test1, 0.3223046064376831\n",
      "accuracy test2 95.48 %, lost test2, 0.15584714710712433\n",
      "epoch 28/50, step 234/235, accuracy test1 90.42 %, lost test1, 0.3223123848438263\n",
      "accuracy test2 95.52000000000001 %, lost test2, 0.15381497144699097\n",
      "epoch 29/50, step 234/235, accuracy test1 90.05 %, lost test1, 0.33389317989349365\n",
      "accuracy test2 95.62 %, lost test2, 0.1513417810201645\n",
      "epoch 30/50, step 234/235, accuracy test1 90.0 %, lost test1, 0.3378206193447113\n",
      "accuracy test2 95.67 %, lost test2, 0.14975415170192719\n",
      "epoch 31/50, step 234/235, accuracy test1 89.83 %, lost test1, 0.3459899127483368\n",
      "accuracy test2 95.73 %, lost test2, 0.14731332659721375\n",
      "epoch 32/50, step 234/235, accuracy test1 90.08 %, lost test1, 0.3398420810699463\n",
      "accuracy test2 95.84 %, lost test2, 0.1453004628419876\n",
      "epoch 33/50, step 234/235, accuracy test1 89.47 %, lost test1, 0.35882827639579773\n",
      "accuracy test2 95.89 %, lost test2, 0.14296658337116241\n",
      "epoch 34/50, step 234/235, accuracy test1 89.55 %, lost test1, 0.3592209815979004\n",
      "accuracy test2 95.88 %, lost test2, 0.14087490737438202\n",
      "epoch 35/50, step 234/235, accuracy test1 89.55 %, lost test1, 0.35899221897125244\n",
      "accuracy test2 95.96000000000001 %, lost test2, 0.1382773071527481\n",
      "epoch 36/50, step 234/235, accuracy test1 89.53999999999999 %, lost test1, 0.35984277725219727\n",
      "accuracy test2 95.92 %, lost test2, 0.13797540962696075\n",
      "epoch 37/50, step 234/235, accuracy test1 89.16 %, lost test1, 0.37393948435783386\n",
      "accuracy test2 96.04 %, lost test2, 0.13550174236297607\n",
      "epoch 38/50, step 234/235, accuracy test1 89.45 %, lost test1, 0.3639656901359558\n",
      "accuracy test2 96.04 %, lost test2, 0.13350163400173187\n",
      "epoch 39/50, step 234/235, accuracy test1 88.91 %, lost test1, 0.38309893012046814\n",
      "accuracy test2 96.13000000000001 %, lost test2, 0.13179424405097961\n",
      "epoch 40/50, step 234/235, accuracy test1 88.94 %, lost test1, 0.3838503360748291\n",
      "accuracy test2 96.14 %, lost test2, 0.13089238107204437\n",
      "epoch 41/50, step 234/235, accuracy test1 88.69 %, lost test1, 0.3924467861652374\n",
      "accuracy test2 96.23 %, lost test2, 0.12854798138141632\n",
      "epoch 42/50, step 234/235, accuracy test1 88.84 %, lost test1, 0.38839593529701233\n",
      "accuracy test2 96.23 %, lost test2, 0.1270599514245987\n",
      "epoch 43/50, step 234/235, accuracy test1 88.58 %, lost test1, 0.4001425504684448\n",
      "accuracy test2 96.3 %, lost test2, 0.12597322463989258\n",
      "epoch 44/50, step 234/235, accuracy test1 88.47 %, lost test1, 0.3983982801437378\n",
      "accuracy test2 96.39 %, lost test2, 0.12432672083377838\n",
      "epoch 45/50, step 234/235, accuracy test1 88.51 %, lost test1, 0.4007807970046997\n",
      "accuracy test2 96.37 %, lost test2, 0.12310252338647842\n",
      "epoch 46/50, step 234/235, accuracy test1 88.14 %, lost test1, 0.41361016035079956\n",
      "accuracy test2 96.41999999999999 %, lost test2, 0.12176085263490677\n",
      "epoch 47/50, step 234/235, accuracy test1 87.86 %, lost test1, 0.4226161539554596\n",
      "accuracy test2 96.41999999999999 %, lost test2, 0.12096825987100601\n",
      "epoch 48/50, step 234/235, accuracy test1 88.07000000000001 %, lost test1, 0.4146040081977844\n",
      "accuracy test2 96.44 %, lost test2, 0.11971290409564972\n",
      "epoch 49/50, step 234/235, accuracy test1 87.92999999999999 %, lost test1, 0.4212694764137268\n",
      "accuracy test2 96.49 %, lost test2, 0.11768216639757156\n"
     ]
    }
   ],
   "source": [
    "total_steps = len(dataloader_train2)\n",
    "RES2 = []\n",
    "\n",
    "for epoch in range(num_epochs): \n",
    "    for i,data in enumerate(dataloader_train2):\n",
    "        x=data[0].view(-1,784)\n",
    "        y=data[1] \n",
    "\n",
    "        output = NN(x)\n",
    "        loss = criterion(output,y) \n",
    "\n",
    "        optimizer.zero_grad()\n",
    "        loss.backward()\n",
    "        optimizer.step()\n",
    "            \n",
    "        if (epoch+1) % 1 == 0 and (i+1) % int(len(mnist_train2)/batchsize) == 0: \n",
    "            acc = accuracy_Nclass(output.detach().numpy(),y.detach().numpy())\n",
    "            \n",
    "            outputtest1 = NN(x_test1)\n",
    "            loss_test1 = criterion(outputtest1,y_test1)\n",
    "            acc_test1 = accuracy_Nclass(outputtest1.detach().numpy(),y_test1.detach().numpy())\n",
    "            \n",
    "            outputtest2 = NN(x_test2)\n",
    "            loss_test2 = criterion(outputtest2,y_test2)\n",
    "            acc_test2 = accuracy_Nclass(outputtest2.detach().numpy(),y_test2.detach().numpy())\n",
    "            \n",
    "            print(f'epoch {epoch}/{num_epochs}, step {i+1}/{total_steps}, accuracy test1 {acc_test1} %, lost test1, {loss_test1.item()}')\n",
    "            print(f'accuracy test2 {acc_test2} %, lost test2, {loss_test2.item()}')\n",
    "            \n",
    "                # Store the results\n",
    "            RES1 += [[epoch+50, loss_test1.item(),acc_test1,loss.item(), acc]] \n",
    "            RES2 += [[epoch+50, loss_test2.item(),acc_test2]] \n"
   ]
  },
  {
   "cell_type": "code",
   "execution_count": 14,
   "metadata": {},
   "outputs": [],
   "source": [
    "RES1 = np.vstack(RES1)\n",
    "RES2 = np.vstack(RES2)"
   ]
  },
  {
   "cell_type": "code",
   "execution_count": 15,
   "metadata": {},
   "outputs": [
    {
     "data": {
      "text/plain": [
       "<matplotlib.legend.Legend at 0x1207a26d8>"
      ]
     },
     "execution_count": 15,
     "metadata": {},
     "output_type": "execute_result"
    },
    {
     "data": {
      "image/png": "[encoded data removed]",
      "text/plain": [
       "<Figure size 432x288 with 1 Axes>"
      ]
     },
     "metadata": {},
     "output_type": "display_data"
    }
   ],
   "source": [
    "plt.plot(RES1[:,0],RES1[:,2],label=\"Task A\")\n",
    "plt.plot(RES2[:,0],RES2[:,2],label=\"Task B\")\n",
    "plt.xlabel(\"Epoch\")\n",
    "plt.ylabel(\"Test Accuracy\")\n",
    "plt.legend()"
   ]
  },
  {
   "cell_type": "markdown",
   "metadata": {},
   "source": [
    "# EWC"
   ]
  },
  {
   "cell_type": "code",
   "execution_count": null,
   "metadata": {},
   "outputs": [],
   "source": [
    "num_epochs = 50\n",
    "total_steps = len(dataloader_train1)\n",
    "\n",
    "h = 0.01\n",
    "\n",
    "RES1_EWC = []\n",
    "NN_EWC = Net()\n",
    "criterion = nn.CrossEntropyLoss()\n",
    "optimizer = torch.optim.SGD(NN_EWC.parameters(),lr=h)\n",
    "\n",
    "for epoch in range(num_epochs): \n",
    "    for i,data in enumerate(dataloader_train1):\n",
    "        x=data[0].view(-1,784)\n",
    "        y=data[1] \n",
    "\n",
    "        output = NN_EWC(x)\n",
    "        loss = criterion(output,y)\n",
    "\n",
    "        optimizer.zero_grad()\n",
    "        loss.backward()\n",
    "        optimizer.step()\n",
    "\n",
    "        if (epoch+1) % 1 == 0 and (i+1) % int(len(mnist_train1)/batchsize) == 0: \n",
    "            \n",
    "            acc = accuracy_Nclass(output.detach().numpy(),y.detach().numpy())\n",
    "            outputtest = NN_EWC(x_test1)\n",
    "            loss_test = criterion(outputtest,y_test1)\n",
    "            acc_test = accuracy_Nclass(outputtest.detach().numpy(),y_test1.detach().numpy())\n",
    "            print(f'epoch {epoch}/{num_epochs}, step {i+1}/{total_steps}, accuracy test {acc_test} %, lost test, {loss_test.item()}')\n",
    "\n",
    "                # Store the results\n",
    "            RES1_EWC += [[epoch ,loss_test.item(),acc_test, loss.item(), acc]] \n"
   ]
  },
  {
   "cell_type": "code",
   "execution_count": null,
   "metadata": {},
   "outputs": [],
   "source": [
    "torch.save(NN_EWC.state_dict(), 'test1')"
   ]
  },
  {
   "cell_type": "code",
   "execution_count": null,
   "metadata": {},
   "outputs": [],
   "source": [
    "NN_EWC1 = Net()\n",
    "NN_EWC1.load_state_dict(torch.load('test1'))\n",
    "NN_EWC1.eval()"
   ]
  },
  {
   "cell_type": "code",
   "execution_count": null,
   "metadata": {},
   "outputs": [],
   "source": [
    "weights_taskA = []\n",
    "\n",
    "for param in NN_EWC1.parameters():\n",
    "    weights_taskA.append(param.clone())"
   ]
  },
  {
   "cell_type": "code",
   "execution_count": null,
   "metadata": {},
   "outputs": [],
   "source": [
    "dataloader_train1_full = DataLoader(mnist_train1, batch_size=32,shuffle=True) #len(mnist_train1), shuffle=True)\n"
   ]
  },
  {
   "cell_type": "code",
   "execution_count": 123,
   "metadata": {
    "scrolled": true
   },
   "outputs": [
    {
     "name": "stdout",
     "output_type": "stream",
     "text": [
      "127 hello\n"
     ]
    }
   ],
   "source": [
    "Fisher = []\n",
    "loglik = []\n",
    "for i,data in enumerate(dataloader_train1_full):\n",
    "    x=data[0].view(32,-1)\n",
    "    y=data[1] \n",
    "    x = Variable(x) #, requires_grad=True)\n",
    "    y = Variable(y)\n",
    "    loglik.append(F.log_softmax(NN_EWC(x), dim=1)[range(32),y.data])\n",
    "    if len(loglik) >= 4096//32:\n",
    "        break\n",
    "\n",
    "loglik = torch.cat(loglik).unbind()\n",
    "loglik_grads = zip(*[torch.autograd.grad(l,NN_EWC.parameters(),retain_graph=True) for i,l in enumerate(loglik,1)])    \n",
    "loglik_grads = [torch.stack(gs) for gs in loglik_grads]\n",
    "fisher = [(g**2).mean(0) for g in loglik_grads]"
   ]
  },
  {
   "cell_type": "code",
   "execution_count": 173,
   "metadata": {},
   "outputs": [
    {
     "name": "stdout",
     "output_type": "stream",
     "text": [
      "epoch 0/50, step 234/235, accuracy test1 92.58 %, lost test1, 0.24166999757289886\n",
      "accuracy test2 86.89 %, lost test2, 0.487819641828537\n",
      "epoch 1/50, step 234/235, accuracy test1 93.16 %, lost test1, 0.2284669131040573\n",
      "accuracy test2 89.55 %, lost test2, 0.37964415550231934\n",
      "epoch 2/50, step 234/235, accuracy test1 93.07 %, lost test1, 0.23027148842811584\n",
      "accuracy test2 90.59 %, lost test2, 0.3368389308452606\n",
      "epoch 3/50, step 234/235, accuracy test1 93.39 %, lost test1, 0.22246386110782623\n",
      "accuracy test2 91.31 %, lost test2, 0.3108096420764923\n",
      "epoch 4/50, step 234/235, accuracy test1 93.42 %, lost test1, 0.21931228041648865\n",
      "accuracy test2 91.72 %, lost test2, 0.29297831654548645\n",
      "epoch 5/50, step 234/235, accuracy test1 93.55 %, lost test1, 0.21556657552719116\n",
      "accuracy test2 92.02 %, lost test2, 0.27982401847839355\n",
      "epoch 6/50, step 234/235, accuracy test1 93.31 %, lost test1, 0.22028860449790955\n",
      "accuracy test2 92.39 %, lost test2, 0.26916345953941345\n",
      "epoch 7/50, step 234/235, accuracy test1 93.5 %, lost test1, 0.2158081978559494\n",
      "accuracy test2 92.7 %, lost test2, 0.26020053029060364\n",
      "epoch 8/50, step 234/235, accuracy test1 93.52000000000001 %, lost test1, 0.21444182097911835\n",
      "accuracy test2 92.85 %, lost test2, 0.2522629499435425\n",
      "epoch 9/50, step 234/235, accuracy test1 93.43 %, lost test1, 0.21638323366641998\n",
      "accuracy test2 93.02 %, lost test2, 0.24579477310180664\n",
      "epoch 10/50, step 234/235, accuracy test1 93.6 %, lost test1, 0.21170777082443237\n",
      "accuracy test2 93.35 %, lost test2, 0.23954148590564728\n",
      "epoch 11/50, step 234/235, accuracy test1 93.61 %, lost test1, 0.21351176500320435\n",
      "accuracy test2 93.44 %, lost test2, 0.23519062995910645\n",
      "epoch 12/50, step 234/235, accuracy test1 93.67 %, lost test1, 0.2108134776353836\n",
      "accuracy test2 93.5 %, lost test2, 0.23034678399562836\n",
      "epoch 13/50, step 234/235, accuracy test1 93.72 %, lost test1, 0.20942583680152893\n",
      "accuracy test2 93.76 %, lost test2, 0.22560031712055206\n",
      "epoch 14/50, step 234/235, accuracy test1 93.75 %, lost test1, 0.20914778113365173\n",
      "accuracy test2 93.74 %, lost test2, 0.22288620471954346\n",
      "epoch 15/50, step 234/235, accuracy test1 93.71000000000001 %, lost test1, 0.21085385978221893\n",
      "accuracy test2 93.87 %, lost test2, 0.21723002195358276\n",
      "epoch 16/50, step 234/235, accuracy test1 93.89 %, lost test1, 0.2061733603477478\n",
      "accuracy test2 94.0 %, lost test2, 0.21479983627796173\n",
      "epoch 17/50, step 234/235, accuracy test1 93.82000000000001 %, lost test1, 0.20652993023395538\n",
      "accuracy test2 94.05 %, lost test2, 0.21060287952423096\n",
      "epoch 18/50, step 234/235, accuracy test1 93.9 %, lost test1, 0.20638231933116913\n",
      "accuracy test2 94.08 %, lost test2, 0.20798857510089874\n",
      "epoch 19/50, step 234/235, accuracy test1 93.9 %, lost test1, 0.20589081943035126\n",
      "accuracy test2 94.19 %, lost test2, 0.20466497540473938\n",
      "epoch 20/50, step 234/235, accuracy test1 93.97 %, lost test1, 0.20486128330230713\n",
      "accuracy test2 94.32000000000001 %, lost test2, 0.2024507373571396\n",
      "epoch 21/50, step 234/235, accuracy test1 93.86 %, lost test1, 0.20609942078590393\n",
      "accuracy test2 94.35 %, lost test2, 0.19975365698337555\n",
      "epoch 22/50, step 234/235, accuracy test1 93.85 %, lost test1, 0.20626306533813477\n",
      "accuracy test2 94.49 %, lost test2, 0.19636473059654236\n",
      "epoch 23/50, step 234/235, accuracy test1 94.04 %, lost test1, 0.20352347195148468\n",
      "accuracy test2 94.53 %, lost test2, 0.1942950338125229\n",
      "epoch 24/50, step 234/235, accuracy test1 94.08 %, lost test1, 0.20214444398880005\n",
      "accuracy test2 94.63000000000001 %, lost test2, 0.19233651459217072\n",
      "epoch 25/50, step 234/235, accuracy test1 94.10000000000001 %, lost test1, 0.20132650434970856\n",
      "accuracy test2 94.63000000000001 %, lost test2, 0.18970289826393127\n",
      "epoch 26/50, step 234/235, accuracy test1 94.16 %, lost test1, 0.2003675401210785\n",
      "accuracy test2 94.67 %, lost test2, 0.18806786835193634\n",
      "epoch 27/50, step 234/235, accuracy test1 94.05 %, lost test1, 0.20047977566719055\n",
      "accuracy test2 94.67999999999999 %, lost test2, 0.18610098958015442\n",
      "epoch 28/50, step 234/235, accuracy test1 94.16 %, lost test1, 0.20058976113796234\n",
      "accuracy test2 94.84 %, lost test2, 0.1837032437324524\n",
      "epoch 29/50, step 234/235, accuracy test1 94.14 %, lost test1, 0.1996004581451416\n",
      "accuracy test2 94.88 %, lost test2, 0.1825065165758133\n",
      "epoch 30/50, step 234/235, accuracy test1 94.16 %, lost test1, 0.20003917813301086\n",
      "accuracy test2 94.89 %, lost test2, 0.18023300170898438\n",
      "epoch 31/50, step 234/235, accuracy test1 94.28 %, lost test1, 0.19773581624031067\n",
      "accuracy test2 94.98 %, lost test2, 0.17872337996959686\n",
      "epoch 32/50, step 234/235, accuracy test1 94.36 %, lost test1, 0.19492532312870026\n",
      "accuracy test2 94.98 %, lost test2, 0.176704540848732\n",
      "epoch 33/50, step 234/235, accuracy test1 94.24 %, lost test1, 0.1973206102848053\n",
      "accuracy test2 95.09 %, lost test2, 0.17471939325332642\n",
      "epoch 34/50, step 234/235, accuracy test1 94.28 %, lost test1, 0.19512706995010376\n",
      "accuracy test2 95.1 %, lost test2, 0.17431144416332245\n",
      "epoch 35/50, step 234/235, accuracy test1 94.23 %, lost test1, 0.19758731126785278\n",
      "accuracy test2 95.17 %, lost test2, 0.17199063301086426\n",
      "epoch 36/50, step 234/235, accuracy test1 94.25 %, lost test1, 0.19587448239326477\n",
      "accuracy test2 95.22 %, lost test2, 0.17058923840522766\n",
      "epoch 37/50, step 234/235, accuracy test1 94.39 %, lost test1, 0.19333362579345703\n",
      "accuracy test2 95.24000000000001 %, lost test2, 0.16898608207702637\n",
      "epoch 38/50, step 234/235, accuracy test1 94.28 %, lost test1, 0.19435997307300568\n",
      "accuracy test2 95.28 %, lost test2, 0.16855540871620178\n",
      "epoch 39/50, step 234/235, accuracy test1 94.35 %, lost test1, 0.19338737428188324\n",
      "accuracy test2 95.24000000000001 %, lost test2, 0.1666940599679947\n",
      "epoch 40/50, step 234/235, accuracy test1 94.38 %, lost test1, 0.1933131217956543\n",
      "accuracy test2 95.3 %, lost test2, 0.16525502502918243\n",
      "epoch 41/50, step 234/235, accuracy test1 94.42 %, lost test1, 0.1924438774585724\n",
      "accuracy test2 95.39 %, lost test2, 0.16404904425144196\n",
      "epoch 42/50, step 234/235, accuracy test1 94.25 %, lost test1, 0.19419947266578674\n",
      "accuracy test2 95.42 %, lost test2, 0.16286757588386536\n",
      "epoch 43/50, step 234/235, accuracy test1 94.28 %, lost test1, 0.19502349197864532\n",
      "accuracy test2 95.45 %, lost test2, 0.16192877292633057\n",
      "epoch 44/50, step 234/235, accuracy test1 94.44 %, lost test1, 0.19225506484508514\n",
      "accuracy test2 95.42 %, lost test2, 0.1604456901550293\n",
      "epoch 45/50, step 234/235, accuracy test1 94.32000000000001 %, lost test1, 0.19242410361766815\n",
      "accuracy test2 95.48 %, lost test2, 0.1585269421339035\n",
      "epoch 46/50, step 234/235, accuracy test1 94.33 %, lost test1, 0.19299083948135376\n",
      "accuracy test2 95.53 %, lost test2, 0.15805888175964355\n",
      "epoch 47/50, step 234/235, accuracy test1 94.49 %, lost test1, 0.19123277068138123\n",
      "accuracy test2 95.48 %, lost test2, 0.157371386885643\n",
      "epoch 48/50, step 234/235, accuracy test1 94.39 %, lost test1, 0.19256925582885742\n",
      "accuracy test2 95.58 %, lost test2, 0.15647472441196442\n",
      "epoch 49/50, step 234/235, accuracy test1 94.48 %, lost test1, 0.18978188931941986\n",
      "accuracy test2 95.63000000000001 %, lost test2, 0.15505151450634003\n"
     ]
    }
   ],
   "source": [
    "total_steps = len(dataloader_train2)\n",
    "RES1_EWC = []\n",
    "RES2_EWC = []\n",
    "importance = 100 \n",
    "h = 0.01\n",
    "for epoch in range(num_epochs): \n",
    "    for i,data in enumerate(dataloader_train2):\n",
    "        x=data[0].view(-1,784)\n",
    "        y=data[1] \n",
    "\n",
    "        output = NN_EWC1(x)\n",
    "        lossB = criterion(output,y)\n",
    "\n",
    "        loss_EWC = 0\n",
    "        for m in range(3):\n",
    "            loss_EWC += torch.sum(fisher[2*m].reshape(-1,1)*((NN_EWC1.big_pass[2*m].weight-weights_taskA[2*m])**2).reshape(-1,1))\n",
    "            loss_EWC += torch.sum(fisher[2*m+1].reshape(-1,1)*((NN_EWC1.big_pass[2*m].bias-weights_taskA[2*m+1])**2).reshape(-1,1))\n",
    "            \n",
    "        loss = lossB+importance*loss_EWC\n",
    "        \n",
    "        dL1 = torch.autograd.grad(loss,NN_EWC1.big_pass[0].weight,create_graph=True)[0]\n",
    "        dL2 = torch.autograd.grad(loss,NN_EWC1.big_pass[2].weight,create_graph=True)[0]\n",
    "        dL3 = torch.autograd.grad(loss,NN_EWC1.big_pass[4].weight,create_graph=True)[0]\n",
    "        dLb1 = torch.autograd.grad(loss,NN_EWC1.big_pass[0].bias,create_graph=True)[0]\n",
    "        dLb2 = torch.autograd.grad(loss,NN_EWC1.big_pass[2].bias,create_graph=True)[0]\n",
    "        dLb3 = torch.autograd.grad(loss,NN_EWC1.big_pass[4].bias)[0]\n",
    "        \n",
    "        NN_EWC1.big_pass[0].weight = torch.nn.Parameter(NN_EWC1.big_pass[0].weight - h*dL1)\n",
    "        NN_EWC1.big_pass[2].weight = torch.nn.Parameter(NN_EWC1.big_pass[2].weight - h*dL2)\n",
    "        NN_EWC1.big_pass[4].weight = torch.nn.Parameter(NN_EWC1.big_pass[4].weight - h*dL3)\n",
    "        NN_EWC1.big_pass[0].bias = torch.nn.Parameter(NN_EWC1.big_pass[0].bias - h*dLb1)\n",
    "        NN_EWC1.big_pass[2].bias = torch.nn.Parameter(NN_EWC1.big_pass[2].bias - h*dLb2)\n",
    "        NN_EWC1.big_pass[4].bias = torch.nn.Parameter(NN_EWC1.big_pass[4].bias - h*dLb3)\n",
    "\n",
    "        \n",
    "        if (epoch+1) % 1 == 0 and (i+1) % int(len(mnist_train2)/batchsize) == 0: \n",
    "            acc = accuracy_Nclass(output.detach().numpy(),y.detach().numpy())\n",
    "            \n",
    "            outputtest1 = NN_EWC1(x_test1)\n",
    "            loss_test1 = criterion(outputtest1,y_test1)\n",
    "            acc_test1 = accuracy_Nclass(outputtest1.detach().numpy(),y_test1.detach().numpy())\n",
    "            \n",
    "            outputtest2 = NN_EWC1(x_test2)\n",
    "            loss_test2 = criterion(outputtest2,y_test2)\n",
    "            acc_test2 = accuracy_Nclass(outputtest2.detach().numpy(),y_test2.detach().numpy())\n",
    "            \n",
    "            print(f'epoch {epoch}/{num_epochs}, step {i+1}/{total_steps}, accuracy test1 {acc_test1} %, lost test1, {loss_test1.item()}')\n",
    "            print(f'accuracy test2 {acc_test2} %, lost test2, {loss_test2.item()}')\n",
    "            \n",
    "                # Store the results\n",
    "            RES1_EWC_importance20 += [[epoch+50, loss_test1.item(),acc_test1,loss.item(), acc]] \n",
    "            RES2_EWC_importance20 += [[epoch+50, loss_test2.item(),acc_test2]] \n"
   ]
  },
  {
   "cell_type": "code",
   "execution_count": 127,
   "metadata": {},
   "outputs": [],
   "source": [
    "RES1_EWC = np.vstack(RES1_EWC)\n",
    "RES2_EWC = np.vstack(RES2_EWC)"
   ]
  },
  {
   "cell_type": "code",
   "execution_count": 176,
   "metadata": {},
   "outputs": [
    {
     "data": {
      "text/plain": [
       "<matplotlib.legend.Legend at 0x165f46940>"
      ]
     },
     "execution_count": 176,
     "metadata": {},
     "output_type": "execute_result"
    },
    {
     "data": {
      "image/png": "[encoded data removed]",
      "text/plain": [
       "<Figure size 576x360 with 1 Axes>"
      ]
     },
     "metadata": {},
     "output_type": "display_data"
    }
   ],
   "source": [
    "plt.figure(figsize=[8,5]) # Increase the size of the plots\n",
    "plt.rcParams.update({'font.size': 18})\n",
    "plt.plot(RES1[:,0],RES1[:,2],label=\"Task A\")\n",
    "plt.plot(RES2[:,0],RES2[:,2],label=\"Task B\")\n",
    "plt.plot(RES1_EWC[:,0],RES1_EWC[:,2],label=\"Task A EWC $\\lambda$ = 40\")\n",
    "plt.plot(RES2_EWC[:,0],RES2_EWC[:,2],label=\"Task B EWC $\\lambda$ = 40\")\n",
    "plt.ylim([80,100])\n",
    "plt.xlim([0,100])\n",
    "plt.xlabel(\"Epoch\")\n",
    "plt.ylabel(\"Test Accuracy\")\n",
    "plt.legend()"
   ]
  },
  {
   "cell_type": "code",
   "execution_count": null,
   "metadata": {},
   "outputs": [],
   "source": [
    "total_steps = len(dataloader_train3)\n",
    "RES3_EWC = []\n",
    "\n",
    "for epoch in range(num_epochs): \n",
    "    for i,data in enumerate(dataloader_train3):\n",
    "        x=data[0].view(-1,784)\n",
    "        y=data[1] \n",
    "\n",
    "        output = NN_EWC(x)\n",
    "        loss = criterion(output,y) \n",
    "\n",
    "        optimizer.zero_grad()\n",
    "        loss.backward()\n",
    "        optimizer.step()\n",
    "            \n",
    "        if (epoch+1) % 1 == 0 and (i+1) % int(len(mnist_train3)/batchsize) == 0: \n",
    "            acc = accuracy_Nclass(output.detach().numpy(),y.detach().numpy())\n",
    "            \n",
    "            outputtest1 = NN_EWC(x_test1)\n",
    "            loss_test1 = criterion(outputtest1,y_test1)\n",
    "            acc_test1 = accuracy_Nclass(outputtest1.detach().numpy(),y_test1.detach().numpy())\n",
    "            \n",
    "            outputtest2 = NN_EWC(x_test2)\n",
    "            loss_test2 = criterion(outputtest2,y_test2)\n",
    "            acc_test2 = accuracy_Nclass(outputtest2.detach().numpy(),y_test2.detach().numpy())\n",
    "            \n",
    "            outputtest3 = NN_EWC(x_test3)\n",
    "            loss_test3 = criterion(outputtest3,y_test3)\n",
    "            acc_test3 = accuracy_Nclass(outputtest3.detach().numpy(),y_test3.detach().numpy())\n",
    "            \n",
    "            print(f'epoch {epoch}/{num_epochs}, step {i+1}/{total_steps}, accuracy test1 {acc_test1} %, lost test1, {loss_test1.item()}')\n",
    "            print(f'accuracy test2 {acc_test2} %, lost test2, {loss_test2.item()}')\n",
    "            print(f'accuracy test3 {acc_test3} %, lost test3, {loss_test3.item()}')\n",
    "            \n",
    "                # Store the results\n",
    "            RES1_EWC += [[epoch+100, loss_test1.item(),acc_test1,loss.item(), acc]] \n",
    "            RES2_EWC += [[epoch+100, loss_test2.item(),acc_test2]] \n",
    "            RES3_EWC += [[epoch+100, loss_test3.item(),acc_test3]] "
   ]
  },
  {
   "cell_type": "code",
   "execution_count": null,
   "metadata": {},
   "outputs": [],
   "source": [
    "RES1_EWC = np.vstack(RES1_EWC)\n",
    "RES2_EWC = np.vstack(RES2_EWC)\n",
    "RES3_EWC = np.vstack(RES3_EWC)"
   ]
  },
  {
   "cell_type": "code",
   "execution_count": 17,
   "metadata": {},
   "outputs": [
    {
     "name": "stdout",
     "output_type": "stream",
     "text": [
      "[  0.   1.   2.   3.   4.   5.   6.   7.   8.   9.  10.  11.  12.  13.\n",
      "  14.  15.  16.  17.  18.  19.  20.  21.  22.  23.  24.  25.  26.  27.\n",
      "  28.  29.  30.  31.  32.  33.  34.  35.  36.  37.  38.  39.  40.  41.\n",
      "  42.  43.  44.  45.  46.  47.  48.  49.  50.  51.  52.  53.  54.  55.\n",
      "  56.  57.  58.  59.  60.  61.  62.  63.  64.  65.  66.  67.  68.  69.\n",
      "  70.  71.  72.  73.  74.  75.  76.  77.  78.  79.  80.  81.  82.  83.\n",
      "  84.  85.  86.  87.  88.  89.  90.  91.  92.  93.  94.  95.  96.  97.\n",
      "  98.  99. 100. 101. 102. 103. 104. 105. 106. 107. 108. 109. 110. 111.\n",
      " 112. 113. 114. 115. 116. 117. 118. 119. 120. 121. 122. 123. 124. 125.\n",
      " 126. 127. 128. 129. 130. 131. 132. 133. 134. 135. 136. 137. 138. 139.\n",
      " 140. 141. 142. 143. 144. 145. 146. 147. 148. 149.]\n"
     ]
    }
   ],
   "source": [
    "plt.plot(RES1[:,0],RES1[:,2],label=\"Task A\")\n",
    "plt.plot(RES2[:,0],RES2[:,2],label=\"Task B\")\n",
    "plt.plot(RES3[:,0],RES3[:,2],label=\"Task C\")\n",
    "\n",
    "plt.plot(RES1_EWC[:,0],RES1_EWC[:,2],label=\"Task A EWC\")\n",
    "plt.plot(RES2_EWC[:,0],RES2_EWC[:,2],label=\"Task B EWC\")\n",
    "plt.plot(RES3_EWC[:,0],RES3_EWC[:,2],label=\"Task C EWC\")\n",
    "\n",
    "plt.xlabel(\"Epoch\")\n",
    "plt.ylabel(\"Test Accuracy\")\n",
    "plt.legend()"
   ]
  }
 ],
 "metadata": {
  "kernelspec": {
   "display_name": "Python 3",
   "language": "python",
   "name": "python3"
  },
  "language_info": {
   "codemirror_mode": {
    "name": "ipython",
    "version": 3
   },
   "file_extension": ".py",
   "mimetype": "text/x-python",
   "name": "python",
   "nbconvert_exporter": "python",
   "pygments_lexer": "ipython3",
   "version": "3.6.4"
  }
 },
 "nbformat": 4,
 "nbformat_minor": 2
}
